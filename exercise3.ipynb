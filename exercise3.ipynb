{
 "cells": [
  {
   "cell_type": "markdown",
   "metadata": {},
   "source": [
    "Prerequisites:\n",
    "\n",
    "The following code is the preliminary setup for the rest of the code. It is used to import the necessary libraries and to set up the connection to the database:"
   ]
  },
  {
   "cell_type": "code",
   "execution_count": null,
   "metadata": {},
   "outputs": [],
   "source": [
    "#install connector api using the command below.\n",
    "%pip install mysql-connector-python\n",
    "\n",
    "#install mysql server using the command below.\n",
    "import mysql.connector as connector\n",
    "from mysql.connector.errors import Error\n",
    "\n",
    "#connect to the server using the command below.\n",
    "try:\n",
    "    # try to connect to the server using the correct credentials.\n",
    "    connection = connector.connect(user=\"root\", password=\"\", host=\"localhost\")\n",
    "    print(\"Connected to the server successfully.\")\n",
    "except Error as er:\n",
    "    print('Error code: ', er.errno)\n",
    "    print('Error message: ', er.msg)"
   ]
  },
  {
   "cell_type": "code",
   "execution_count": null,
   "metadata": {},
   "outputs": [],
   "source": [
    "cursor = connection.cursor() #create a cursor object\n",
    "# try to drop the database if it exists to avoid errors.\n",
    "cursor.execute(\"DROP DATABASE IF EXISTS little_lemon_db\")\n",
    "# choose a database called little_lemon_db\n",
    "cursor.execute(\"USE littlelemondm\")\n",
    "connection.database"
   ]
  },
  {
   "cell_type": "code",
   "execution_count": null,
   "metadata": {},
   "outputs": [],
   "source": [
    "# show all the table in database\n",
    "cursor.execute(\"SHOW TABLES\")\n",
    "result = cursor.fetchall()\n",
    "print(result)\n",
    "# show all the contact info of customers for promotional campaign\n",
    "query = \"\"\"SELECT Customers.CustomerName, Customers.ContactNumber, Customers.Email, Orders.BillAmount \n",
    "FROM Customers INNER JOIN Bookings ON Customers.CustomerID = Bookings.CustomerID \n",
    "INNER JOIN Orders ON  Orders.BookingID = Bookings.BookingID WHERE Orders.BillAmount > 60\"\"\"\n",
    "cursor.execute(query)\n",
    "\n",
    "result = cursor.fetchall()\n",
    "for row in result:\n",
    "    print(row)"
   ]
  }
 ],
 "metadata": {
  "kernelspec": {
   "display_name": "Python 3",
   "language": "python",
   "name": "python3"
  },
  "language_info": {
   "name": "python",
   "version": "3.11.3"
  },
  "orig_nbformat": 4
 },
 "nbformat": 4,
 "nbformat_minor": 2
}
